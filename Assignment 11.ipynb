{
 "cells": [
  {
   "cell_type": "code",
   "execution_count": 10,
   "metadata": {},
   "outputs": [
    {
     "name": "stdout",
     "output_type": "stream",
     "text": [
      "Hello\n",
      "I m vineetha\n",
      "Good morning to everyone\n"
     ]
    }
   ],
   "source": [
    "# write a python program to read an entire text file\n",
    "f=open(\"python.txt\")\n",
    "print(f.read())"
   ]
  },
  {
   "cell_type": "code",
   "execution_count": 13,
   "metadata": {},
   "outputs": [
    {
     "name": "stdout",
     "output_type": "stream",
     "text": [
      "Enter no of lines to be read:2\n",
      "Hello\n",
      "\n",
      "I m vineetha\n",
      "\n"
     ]
    }
   ],
   "source": [
    "# Write a python program to read first n lines of a file\n",
    "f=open(\"python.txt\")\n",
    "n=int(input(\"Enter no of lines to be read:\"))\n",
    "for i in range(n):\n",
    "    print(f.readline())\n"
   ]
  },
  {
   "cell_type": "code",
   "execution_count": 20,
   "metadata": {
    "scrolled": true
   },
   "outputs": [
    {
     "name": "stdout",
     "output_type": "stream",
     "text": [
      "Enter string to be appended:Vikas\n",
      "Hello\n",
      "I m vineetha\n",
      "Good morning to everyoneVineethaVikas\n"
     ]
    }
   ],
   "source": [
    "# Write a python program to append text to a file and display the text\n",
    "f=open(\"python.txt\",\"a\")\n",
    "inpp=input(\"Enter string to be appended:\")\n",
    "f.write(inpp)\n",
    "f.close()\n",
    "f=open(\"python.txt\")\n",
    "print(f.read())"
   ]
  },
  {
   "cell_type": "code",
   "execution_count": 24,
   "metadata": {},
   "outputs": [
    {
     "name": "stdout",
     "output_type": "stream",
     "text": [
      "Enter n:2\n",
      "['I m vineetha\\n', 'Good morning to everyoneVineethaVikas']\n"
     ]
    }
   ],
   "source": [
    "# write a python program to read last n lines of a file \n",
    "f=open(\"python.txt\")\n",
    "l1=f.readlines()\n",
    "m=len(l1)\n",
    "n=int(input(\"Enter n:\"))\n",
    "print(l1[(m-n):])\n",
    "\n"
   ]
  },
  {
   "cell_type": "code",
   "execution_count": 25,
   "metadata": {},
   "outputs": [
    {
     "name": "stdout",
     "output_type": "stream",
     "text": [
      "Hello\n",
      "\n",
      "Hello\n",
      "I m vineetha\n",
      "\n",
      "Hello\n",
      "I m vineetha\n",
      "Good morning to everyoneVineethaVikas\n"
     ]
    }
   ],
   "source": [
    "# write a python program to read a file line by line store it into a variable\n",
    "f=open(\"python.txt\")\n",
    "str=''\n",
    "for i in f:\n",
    "    str=str+i\n",
    "    print(str)"
   ]
  },
  {
   "cell_type": "code",
   "execution_count": 26,
   "metadata": {},
   "outputs": [
    {
     "name": "stdout",
     "output_type": "stream",
     "text": [
      "['Hello\\n']\n",
      "['Hello\\n', 'I m vineetha\\n']\n",
      "['Hello\\n', 'I m vineetha\\n', 'Good morning to everyoneVineethaVikas']\n"
     ]
    }
   ],
   "source": [
    "# write a python program to read a file line by line and store if into a list\n",
    "f=open(\"python.txt\")\n",
    "l1=[]\n",
    "for i in f:\n",
    "    l1.append(i)\n",
    "    print(l1) "
   ]
  },
  {
   "cell_type": "code",
   "execution_count": 27,
   "metadata": {},
   "outputs": [
    {
     "name": "stdout",
     "output_type": "stream",
     "text": [
      "1\n",
      "2\n",
      "3\n"
     ]
    }
   ],
   "source": [
    "# write a python program to read a file line by line store it into an array\n",
    "f=open(\"python.txt\")\n",
    "l1=[]\n",
    "for i in f:\n",
    "    l1.append(i)\n",
    "    print(len(l1))\n",
    "\n",
    "       "
   ]
  },
  {
   "cell_type": "code",
   "execution_count": 28,
   "metadata": {},
   "outputs": [
    {
     "name": "stdout",
     "output_type": "stream",
     "text": [
      "56\n"
     ]
    }
   ],
   "source": [
    "# write a python program to get the file size of a plain file\n",
    "f=open(\"python.txt\")\n",
    "str=f.read()\n",
    "print(len(str))"
   ]
  },
  {
   "cell_type": "code",
   "execution_count": 32,
   "metadata": {},
   "outputs": [
    {
     "name": "stdout",
     "output_type": "stream",
     "text": [
      "1\n",
      "2\n",
      "3\n",
      "4\n"
     ]
    }
   ],
   "source": [
    "# write a python program to count the number of lines in a text file\n",
    "f=open(\"python.txt\")\n",
    "l1=[]\n",
    "for i in f:\n",
    "    l1.append(i)\n",
    "    print(len(l1))"
   ]
  },
  {
   "cell_type": "code",
   "execution_count": 39,
   "metadata": {},
   "outputs": [
    {
     "name": "stdout",
     "output_type": "stream",
     "text": [
      "Hello\n",
      "I m vineetha\n",
      "Good morning to everyoneVineethaVikasHello\n",
      "Hello\n",
      "Hiiii\n",
      "Hiiii\n",
      "Hiiii\n",
      "Hii\n",
      "Hii\n",
      "Gitam\n"
     ]
    }
   ],
   "source": [
    "f=open(\"python.txt\",\"a\")\n",
    "f1=open(\"python1.txt\",\"r\")\n",
    "for i in f1:\n",
    "    f.write(i)\n",
    "f.close()\n",
    "f=open(\"python.txt\")\n",
    "print(f.read())"
   ]
  },
  {
   "cell_type": "code",
   "execution_count": null,
   "metadata": {},
   "outputs": [],
   "source": []
  }
 ],
 "metadata": {
  "kernelspec": {
   "display_name": "Python 3",
   "language": "python",
   "name": "python3"
  },
  "language_info": {
   "codemirror_mode": {
    "name": "ipython",
    "version": 3
   },
   "file_extension": ".py",
   "mimetype": "text/x-python",
   "name": "python",
   "nbconvert_exporter": "python",
   "pygments_lexer": "ipython3",
   "version": "3.8.3"
  }
 },
 "nbformat": 4,
 "nbformat_minor": 4
}
